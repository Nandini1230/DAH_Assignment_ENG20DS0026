{
  "nbformat": 4,
  "nbformat_minor": 0,
  "metadata": {
    "colab": {
      "provenance": [],
      "include_colab_link": true
    },
    "kernelspec": {
      "name": "python3",
      "display_name": "Python 3"
    },
    "language_info": {
      "name": "python"
    }
  },
  "cells": [
    {
      "cell_type": "markdown",
      "metadata": {
        "id": "view-in-github",
        "colab_type": "text"
      },
      "source": [
        "<a href=\"https://colab.research.google.com/github/Nandini1230/DAH_Assignment_ENG20DS0026/blob/main/word_counting.ipynb\" target=\"_parent\"><img src=\"https://colab.research.google.com/assets/colab-badge.svg\" alt=\"Open In Colab\"/></a>"
      ]
    },
    {
      "cell_type": "code",
      "source": [
        "import threading   \n",
        "# Define the mapper function\n",
        "def mapper(words):\n",
        "    word_count = {}\n",
        "    for word in words:\n",
        "        if word in word_count:\n",
        "            word_count[word] += 1\n",
        "        else:\n",
        "            word_count[word] = 1\n",
        "    return word_count.items()\n",
        "# Define the reducer function\n",
        "def reducer(word, counts):\n",
        "    return (word, sum(counts))\n",
        "# Define the MapReduce function\n",
        "def map_reduce(words):\n",
        "    # Split the input text into individual words\n",
        "    words = words.split()\n",
        "    # Map the words to key-value pairs\n",
        "    mapped_pairs = []\n",
        "    for pair in mapper(words):\n",
        "        mapped_pairs.append(pair)\n",
        "    # Shuffle the intermediate key-value pairs\n",
        "    shuffled_pairs = {}\n",
        "    for pair in mapped_pairs:\n",
        "        if pair[0] in shuffled_pairs:\n",
        "            shuffled_pairs[pair[0]].append(pair[1])\n",
        "        else:\n",
        "            shuffled_pairs[pair[0]] = [pair[1]]\n",
        "    # Reduce the shuffled key-value pairs\n",
        "    reduced_pairs = []\n",
        "    for key, value in shuffled_pairs.items():\n",
        "        reduced_pairs.append(reducer(key, value))\n",
        "    return reduced_pairs\n",
        "# Define the main function to test the MapReduce function\n",
        "def main():\n",
        "    # Read the input text from file\n",
        "    with open('input.txt', 'r') as f:\n",
        "        words = f.read()\n",
        "    # Call the MapReduce function\n",
        "    result = map_reduce(words)\n",
        "    # Print the output\n",
        "    for pair in result:\n",
        "        print(pair)\n",
        "if __name__ == '__main__':\n",
        "    main()"
      ],
      "metadata": {
        "colab": {
          "base_uri": "https://localhost:8080/"
        },
        "id": "SegZz5Ioqwd_",
        "outputId": "01e41c95-0b2e-4694-c512-632fe1da43ec"
      },
      "execution_count": 2,
      "outputs": [
        {
          "output_type": "stream",
          "name": "stdout",
          "text": [
            "('This', 1)\n",
            "('is', 2)\n",
            "('an', 1)\n",
            "('Apple', 2)\n",
            "('.', 2)\n",
            "('red', 1)\n",
            "('in', 1)\n",
            "('colour', 1)\n"
          ]
        }
      ]
    },
    {
      "cell_type": "code",
      "execution_count": 3,
      "metadata": {
        "colab": {
          "base_uri": "https://localhost:8080/"
        },
        "id": "mZ0BkbwuJ_4y",
        "outputId": "9d26f979-03f4-4a1e-fe22-791861d664b8"
      },
      "outputs": [
        {
          "output_type": "stream",
          "name": "stdout",
          "text": [
            "('T', 1)\n",
            "('h', 1)\n",
            "('i', 4)\n",
            "('s', 3)\n",
            "(' ', 9)\n",
            "('a', 1)\n",
            "('n', 2)\n",
            "('A', 2)\n",
            "('p', 4)\n",
            "('l', 3)\n",
            "('e', 3)\n",
            "('.', 2)\n",
            "('\\n', 2)\n",
            "('r', 2)\n",
            "('d', 1)\n",
            "('c', 1)\n",
            "('o', 2)\n",
            "('u', 1)\n"
          ]
        }
      ],
      "source": [
        "import threading   \n",
        "# Define the mapper function\n",
        "def mapper(words):\n",
        "    word_count = {}\n",
        "    for word in words:\n",
        "        if word in word_count:\n",
        "            word_count[word] += 1\n",
        "        else:\n",
        "            word_count[word] = 1\n",
        "    return word_count.items()\n",
        "\n",
        "# Define the main function to test the MapReduce function\n",
        "def main():\n",
        "    # Read the input text from file\n",
        "    with open('input.txt', 'r') as f:\n",
        "        words = f.read()\n",
        "    # Call the Mapper function\n",
        "    result = mapper(words)\n",
        "    # Print the output\n",
        "    for pair in result:\n",
        "        print(pair)\n",
        "if __name__ == '__main__':\n",
        "    main()"
      ]
    },
    {
      "cell_type": "code",
      "source": [
        "#Splitting words\n",
        "# Define the MapReduce function\n",
        "def map_reduce(words):\n",
        "    # Split the input text into individual words\n",
        "    words = words.split()\n",
        "    print(words)\n",
        "# Define the main function to test the MapReduce function\n",
        "def main():\n",
        "    # Read the input text from file\n",
        "    with open('input.txt', 'r') as f:\n",
        "        words = f.read()\n",
        "    # Call the MapReduce function\n",
        "    result = map_reduce(words)\n",
        "    \n",
        "if __name__ == '__main__':\n",
        "    main()"
      ],
      "metadata": {
        "colab": {
          "base_uri": "https://localhost:8080/"
        },
        "id": "Z2BHeWSQm-vL",
        "outputId": "3f078538-7198-4551-d589-f19c3e1d0413"
      },
      "execution_count": 4,
      "outputs": [
        {
          "output_type": "stream",
          "name": "stdout",
          "text": [
            "['This', 'is', 'an', 'Apple', '.', 'Apple', 'is', 'red', 'in', 'colour', '.']\n"
          ]
        }
      ]
    },
    {
      "cell_type": "code",
      "source": [
        "#mapping words to key-value pairs\n",
        "# Define the MapReduce function\n",
        "def map_reduce(words):\n",
        "    # Split the input text into individual words\n",
        "    words = words.split()\n",
        "    # Map the words to key-value pairs\n",
        "    mapped_pairs = []\n",
        "    for pair in mapper(words):\n",
        "        mapped_pairs.append(pair)\n",
        "    print(mapped_pairs)\n",
        "# Define the main function to test the MapReduce function\n",
        "def main():\n",
        "    # Read the input text from file\n",
        "    with open('input.txt', 'r') as f:\n",
        "        words = f.read()\n",
        "    # Call the MapReduce function\n",
        "    result = map_reduce(words)\n",
        "    \n",
        "if __name__ == '__main__':\n",
        "    main()\n",
        "  "
      ],
      "metadata": {
        "colab": {
          "base_uri": "https://localhost:8080/"
        },
        "id": "tcX5lrQUm_UP",
        "outputId": "412ac89b-8234-48f2-ba4e-66f68bcaf422"
      },
      "execution_count": 5,
      "outputs": [
        {
          "output_type": "stream",
          "name": "stdout",
          "text": [
            "[('This', 1), ('is', 2), ('an', 1), ('Apple', 2), ('.', 2), ('red', 1), ('in', 1), ('colour', 1)]\n"
          ]
        }
      ]
    },
    {
      "cell_type": "code",
      "source": [
        "#shuffling key value pairs\n",
        "# Define the MapReduce function\n",
        "def map_reduce(words):\n",
        "    # Split the input text into individual words\n",
        "    words = words.split()\n",
        "    # Map the words to key-value pairs\n",
        "    mapped_pairs = []\n",
        "    for pair in mapper(words):\n",
        "        mapped_pairs.append(pair)\n",
        "    # Shuffle the intermediate key-value pairs\n",
        "    shuffled_pairs = {}\n",
        "    for pair in mapped_pairs:\n",
        "        if pair[0] in shuffled_pairs:\n",
        "            shuffled_pairs[pair[0]].append(pair[1])\n",
        "        else:\n",
        "            shuffled_pairs[pair[0]] = [pair[1]]\n",
        "    print(shuffled_pairs)\n",
        "# Define the main function to test the MapReduce function\n",
        "def main():\n",
        "    # Read the input text from file\n",
        "    with open('input.txt', 'r') as f:\n",
        "        words = f.read()\n",
        "    # Call the MapReduce function\n",
        "    result = map_reduce(words)\n",
        "    \n",
        "if __name__ == '__main__':\n",
        "    main()"
      ],
      "metadata": {
        "colab": {
          "base_uri": "https://localhost:8080/"
        },
        "id": "DhC48PyZoc1P",
        "outputId": "6a3e94ac-3f0a-4f8c-eab4-1a376a435b8f"
      },
      "execution_count": 6,
      "outputs": [
        {
          "output_type": "stream",
          "name": "stdout",
          "text": [
            "{'This': [1], 'is': [2], 'an': [1], 'Apple': [2], '.': [2], 'red': [1], 'in': [1], 'colour': [1]}\n"
          ]
        }
      ]
    },
    {
      "cell_type": "code",
      "source": [
        "#reduce shuffle key value pairs\n",
        "# Define the reducer function\n",
        "def reducer(word, counts):\n",
        "    return (word, sum(counts))\n",
        "# Define the MapReduce function\n",
        "def map_reduce(words):\n",
        "    # Split the input text into individual words\n",
        "    words = words.split()\n",
        "    # Map the words to key-value pairs\n",
        "    mapped_pairs = []\n",
        "    for pair in mapper(words):\n",
        "        mapped_pairs.append(pair)\n",
        "    # Shuffle the intermediate key-value pairs\n",
        "    shuffled_pairs = {}\n",
        "    for pair in mapped_pairs:\n",
        "        if pair[0] in shuffled_pairs:\n",
        "            shuffled_pairs[pair[0]].append(pair[1])\n",
        "        else:\n",
        "            shuffled_pairs[pair[0]] = [pair[1]]\n",
        "    # Reduce the shuffled key-value pairs\n",
        "    reduced_pairs = []\n",
        "    for key, value in shuffled_pairs.items():\n",
        "        reduced_pairs.append(reducer(key, value))\n",
        "    print(reduced_pairs)\n",
        "\n",
        "# Define the main function to test the MapReduce function\n",
        "def main():\n",
        "    # Read the input text from file\n",
        "    with open('input.txt', 'r') as f:\n",
        "        words = f.read()\n",
        "    # Call the MapReduce function\n",
        "    result = map_reduce(words)\n",
        "\n",
        "    \n",
        "if __name__ == '__main__':\n",
        "    main()"
      ],
      "metadata": {
        "colab": {
          "base_uri": "https://localhost:8080/"
        },
        "id": "uSmidnETo22n",
        "outputId": "5e468885-655c-4bcf-e579-d57fe3976256"
      },
      "execution_count": 7,
      "outputs": [
        {
          "output_type": "stream",
          "name": "stdout",
          "text": [
            "[('This', 1), ('is', 2), ('an', 1), ('Apple', 2), ('.', 2), ('red', 1), ('in', 1), ('colour', 1)]\n"
          ]
        }
      ]
    },
    {
      "cell_type": "code",
      "source": [
        "!pip3 freeze > requirements.txt "
      ],
      "metadata": {
        "id": "sBqMrBQlwcqe"
      },
      "execution_count": 8,
      "outputs": []
    },
    {
      "cell_type": "code",
      "source": [],
      "metadata": {
        "id": "sIwcftnvKvwI"
      },
      "execution_count": null,
      "outputs": []
    }
  ]
}